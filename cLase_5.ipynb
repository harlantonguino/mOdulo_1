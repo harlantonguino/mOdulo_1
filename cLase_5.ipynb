{
 "cells": [
  {
   "attachments": {},
   "cell_type": "markdown",
   "metadata": {},
   "source": [
    "# Práctica Clase 5"
   ]
  },
  {
   "attachments": {},
   "cell_type": "markdown",
   "metadata": {},
   "source": [
    "1) Implementar un juego, que consista en apilar números enteros del 1 al 20, de forma aleatoria, para lo cual debe usarse una estructura de Pila. \n",
    "Luego, el usuario debe elegir un número de veces en que se va a quitar elementos de la pila, los cuales, sumados entre sí, no deben superar el valor de 50.\n",
    "El usuario pierde si la suma supera ese valor. Si no lo supera, gana, pero su calificación será 10 menos el número elementos que falten quitar para todavía no superar 50.\n",
    "El programa debe informar si perdió, y si ganó, con qué calificación lo hizo.\n",
    "\n",
    "Consideraciones:<br>\n",
    "a. Se puede usar la función input() para obtener una entrada de teclado.<br>\n",
    "b. Se puede usar la el modulo random para obtener valores aleatorios."
   ]
  },
  {
   "cell_type": "code",
   "execution_count": 247,
   "metadata": {},
   "outputs": [],
   "source": [
    "import random"
   ]
  },
  {
   "cell_type": "code",
   "execution_count": 301,
   "metadata": {},
   "outputs": [],
   "source": [
    "class Estructura_Pila(object):\n",
    "    def __init__(self):\n",
    "        self.__list = []\n",
    "    \n",
    "    def push(self, item):\n",
    "        self.__list.append(item)\n",
    "        return None\n",
    "   \n",
    "    def pop(self):\n",
    "        return None\n",
    "    \n",
    "    def peek(self):\n",
    "        if self.__list:\n",
    "            return self.__list[-1]\n",
    "        else:\n",
    "            return None\n",
    "   \n",
    "    def show(self):\n",
    "        if self.__list == []:\n",
    "            return []\n",
    "        else:\n",
    "            lista = self.__list\n",
    "            return self.__list\n",
    "    \n",
    "    def size(self):\n",
    "        longitud = len(self.__list)\n",
    "        return 'La lista contiene {} elementos'.format(longitud)\n",
    "    \n",
    "    def clear(self):\n",
    "        self.__list = []\n",
    "        return None"
   ]
  },
  {
   "cell_type": "code",
   "execution_count": 328,
   "metadata": {},
   "outputs": [],
   "source": [
    "def juego():\n",
    "    eD1 = Estructura_Pila()\n",
    "\n",
    "    for i in range(0,20):    \n",
    "        eD1.push(random.randint(0,20)) \n",
    "\n",
    "    print(eD1.show())     \n",
    "    \n",
    "    dSeleccionado = input('Cuantos elementos deseas sumar?') \n",
    "    \n",
    "    if dSeleccionado.isdigit():\n",
    "        numero = int(dSeleccionado)\n",
    "    else:\n",
    "        numero = 0\n",
    "\n",
    "    sumaElementos = 0\n",
    "    lista = []\n",
    "    for j in range(0,numero):\n",
    "        lista.append(eD1.peek())\n",
    "        sumaElementos += eD1.peek()\n",
    "        eD1.pop()        \n",
    "    \n",
    "    if sumaElementos == 0:\n",
    "        salida = 'Ingresaste un valor NO numerico, ingresa un valor valido'\n",
    "    elif 40 < sumaElementos <= 50:\n",
    "        puntos = 50 - sumaElementos\n",
    "        puntos = 10 - puntos\n",
    "        salida =  '{} Suma iguala a {} Ganaste! {} puntos'.format(lista, sumaElementos, puntos) \n",
    "    else: \n",
    "        salida =  '{} Suma igual a {} Perdiste! vuelve a intentarlo'.format(lista, sumaElementos)\n",
    "\n",
    "    eD1.clear()\n",
    "\n",
    "    return salida  \n",
    "        \n"
   ]
  },
  {
   "cell_type": "code",
   "execution_count": 331,
   "metadata": {},
   "outputs": [
    {
     "name": "stdout",
     "output_type": "stream",
     "text": [
      "[18, 9, 6, 12, 10, 5, 15, 20, 18, 0, 4, 12, 17, 14, 2, 16, 1, 7, 18, 20]\n"
     ]
    },
    {
     "data": {
      "text/plain": [
       "'[20, 18, 7] Suma iguala a 45 Ganaste! 5 puntos'"
      ]
     },
     "execution_count": 331,
     "metadata": {},
     "output_type": "execute_result"
    }
   ],
   "source": [
    "juego()"
   ]
  }
 ],
 "metadata": {
  "kernelspec": {
   "display_name": "Python 3",
   "language": "python",
   "name": "python3"
  },
  "language_info": {
   "codemirror_mode": {
    "name": "ipython",
    "version": 3
   },
   "file_extension": ".py",
   "mimetype": "text/x-python",
   "name": "python",
   "nbconvert_exporter": "python",
   "pygments_lexer": "ipython3",
   "version": "3.11.1"
  },
  "orig_nbformat": 4,
  "vscode": {
   "interpreter": {
    "hash": "c2add6e69ce8512bc31365b658e10cbfaf78d0317c05b0a2cac7a34cd9db6954"
   }
  }
 },
 "nbformat": 4,
 "nbformat_minor": 2
}
