{
 "cells": [
  {
   "attachments": {},
   "cell_type": "markdown",
   "metadata": {},
   "source": [
    "### CARAGAR DATAFRAME"
   ]
  },
  {
   "cell_type": "code",
   "execution_count": 2,
   "metadata": {},
   "outputs": [],
   "source": [
    "import pandas as pd\n",
    "import matplotlib.pyplot as plt"
   ]
  },
  {
   "cell_type": "code",
   "execution_count": 5,
   "metadata": {},
   "outputs": [],
   "source": [
    "dAtaFrame = pd.read_csv('hospitales2.csv', delimiter=',', encoding='utf-8')"
   ]
  },
  {
   "attachments": {},
   "cell_type": "markdown",
   "metadata": {},
   "source": [
    "### EDA / EXPLORATORY DATA ANALISIS"
   ]
  },
  {
   "cell_type": "code",
   "execution_count": 20,
   "metadata": {},
   "outputs": [
    {
     "data": {
      "text/html": [
       "<div>\n",
       "<style scoped>\n",
       "    .dataframe tbody tr th:only-of-type {\n",
       "        vertical-align: middle;\n",
       "    }\n",
       "\n",
       "    .dataframe tbody tr th {\n",
       "        vertical-align: top;\n",
       "    }\n",
       "\n",
       "    .dataframe thead th {\n",
       "        text-align: right;\n",
       "    }\n",
       "</style>\n",
       "<table border=\"1\" class=\"dataframe\">\n",
       "  <thead>\n",
       "    <tr style=\"text-align: right;\">\n",
       "      <th></th>\n",
       "      <th>WKT</th>\n",
       "      <th>ID</th>\n",
       "      <th>NOMBRE</th>\n",
       "      <th>NOM_MAP</th>\n",
       "      <th>OBJETO</th>\n",
       "      <th>CALLE</th>\n",
       "      <th>ALTURA</th>\n",
       "      <th>DOM_NORMA</th>\n",
       "      <th>DOM_GEO</th>\n",
       "      <th>TELEFONO</th>\n",
       "      <th>GUARDIA</th>\n",
       "      <th>FAX</th>\n",
       "      <th>WEB</th>\n",
       "      <th>COD_POSTAL</th>\n",
       "      <th>TIPO</th>\n",
       "      <th>TIPO_ESPEC</th>\n",
       "      <th>MOD_AT_1</th>\n",
       "      <th>MOD_AT_2</th>\n",
       "      <th>DEPEND_ADM</th>\n",
       "      <th>DIRECTOR</th>\n",
       "    </tr>\n",
       "  </thead>\n",
       "  <tbody>\n",
       "    <tr>\n",
       "      <th>0</th>\n",
       "      <td>POINT (-58.3775508488443 -34.6288473603881)</td>\n",
       "      <td>1.0</td>\n",
       "      <td>HOSPITAL GENERAL DE NIÑOS PEDRO DE ELIZALDE</td>\n",
       "      <td>HOSP. DE ELIZALDE</td>\n",
       "      <td>HOSPITAL</td>\n",
       "      <td>MANUEL A. MONTES DE OCA</td>\n",
       "      <td>40</td>\n",
       "      <td>MONTES DE OCA, MANUEL AV. 40</td>\n",
       "      <td>40 MONTES DE OCA, MANUEL AV.</td>\n",
       "      <td>4307-5842 / 5844</td>\n",
       "      <td>4307-5442 / 4300-1700</td>\n",
       "      <td>4302-7400</td>\n",
       "      <td>www.elizalde.gov.ar</td>\n",
       "      <td>C1270AAN</td>\n",
       "      <td>Hospital de niños</td>\n",
       "      <td>PEDIATRIA</td>\n",
       "      <td>AT. AMB./INTERNACION</td>\n",
       "      <td>DIAG./TRATAM.</td>\n",
       "      <td>Ministerio de Salud GCBA</td>\n",
       "      <td>Dr. Javier Indart</td>\n",
       "    </tr>\n",
       "    <tr>\n",
       "      <th>1</th>\n",
       "      <td>POINT (-58.4120700769456 -34.5941919726393)</td>\n",
       "      <td>2.0</td>\n",
       "      <td>HOSPITAL GENERAL DE NIÑOS RICARDO GUTIERREZ</td>\n",
       "      <td>HOSP. GUTIERREZ</td>\n",
       "      <td>HOSPITAL</td>\n",
       "      <td>GALLO</td>\n",
       "      <td>1330</td>\n",
       "      <td>GALLO 1330</td>\n",
       "      <td>1330 GALLO</td>\n",
       "      <td>4962-9247 / 9248 / 9280</td>\n",
       "      <td>4962-9232</td>\n",
       "      <td>4962-3762</td>\n",
       "      <td>www.guti.gov.ar</td>\n",
       "      <td>C1425EFD</td>\n",
       "      <td>Hospital de niños</td>\n",
       "      <td>PEDIATRIA</td>\n",
       "      <td>AT. AMB./INTERNACION</td>\n",
       "      <td>DIAG./TRATAM.</td>\n",
       "      <td>Ministerio de Salud GCBA</td>\n",
       "      <td>Dra. María Cristina Galoppo</td>\n",
       "    </tr>\n",
       "    <tr>\n",
       "      <th>2</th>\n",
       "      <td>POINT (-58.4027276547828 -34.5845283357505)</td>\n",
       "      <td>4.0</td>\n",
       "      <td>HOSPITAL DE ODONTOLOGIA DR. RAMON CARRILLO (EX...</td>\n",
       "      <td>HOSP. ODONTOLOGICO CARRILLO</td>\n",
       "      <td>HOSPITAL</td>\n",
       "      <td>SANCHEZ DE BUSTAMANTE</td>\n",
       "      <td>2529</td>\n",
       "      <td>SANCHEZ DE BUSTAMANTE 2529</td>\n",
       "      <td>2529 SANCHEZ DE BUSTAMANTE</td>\n",
       "      <td>4805-5521 / 7533</td>\n",
       "      <td>4805-6407</td>\n",
       "      <td>4805-7533</td>\n",
       "      <td>NaN</td>\n",
       "      <td>C1425DUY</td>\n",
       "      <td>Hospital especializado</td>\n",
       "      <td>ODONTOLOGIA</td>\n",
       "      <td>AT. AMBULATORIA</td>\n",
       "      <td>DIAG./TRATAM.</td>\n",
       "      <td>Ministerio de Salud GCBA</td>\n",
       "      <td>Dra. Susana Rita Lisanti</td>\n",
       "    </tr>\n",
       "    <tr>\n",
       "      <th>3</th>\n",
       "      <td>POINT (-58.3851559118889 -34.6394041316484)</td>\n",
       "      <td>6.0</td>\n",
       "      <td>HOSPITAL DE SALUD MENTAL BRAULIO MOYANO</td>\n",
       "      <td>HOSP. MOYANO</td>\n",
       "      <td>HOSPITAL</td>\n",
       "      <td>BRANDSEN</td>\n",
       "      <td>2570</td>\n",
       "      <td>BRANDSEN 2570</td>\n",
       "      <td>2570 BRANDSEN</td>\n",
       "      <td>4301-3655 / 3659</td>\n",
       "      <td>4301-4522</td>\n",
       "      <td>4303-3655/59</td>\n",
       "      <td>www.moyano.org.ar</td>\n",
       "      <td>C1287ABJ</td>\n",
       "      <td>Hospital especializado</td>\n",
       "      <td>SALUD MENTAL</td>\n",
       "      <td>AT. AMB./INTERNACION</td>\n",
       "      <td>DIAG./TRATAM.</td>\n",
       "      <td>Ministerio de Salud GCBA</td>\n",
       "      <td>Dra. Norma Derito</td>\n",
       "    </tr>\n",
       "    <tr>\n",
       "      <th>4</th>\n",
       "      <td>POINT (-58.3913114406535 -34.6341535760002)</td>\n",
       "      <td>7.0</td>\n",
       "      <td>HOSPITAL DE GASTROENTEROLOGIA B. UDAONDO</td>\n",
       "      <td>HOSP. UDAONDO</td>\n",
       "      <td>HOSPITAL</td>\n",
       "      <td>CASEROS</td>\n",
       "      <td>2061</td>\n",
       "      <td>CASEROS AV. 2061</td>\n",
       "      <td>2061 CASEROS AV.</td>\n",
       "      <td>4306-4641 al 4649</td>\n",
       "      <td>4306-4641 al 49 (int. 125)</td>\n",
       "      <td>4306-3013</td>\n",
       "      <td>NaN</td>\n",
       "      <td>C1264AAA</td>\n",
       "      <td>Hospital especializado</td>\n",
       "      <td>ENF. APAR. DIGESTIVO</td>\n",
       "      <td>AT. AMB./INTERNACION</td>\n",
       "      <td>DIAG./TRATAM.</td>\n",
       "      <td>Ministerio de Salud GCBA</td>\n",
       "      <td>Dr. Eduardo Gustavo Sosa</td>\n",
       "    </tr>\n",
       "  </tbody>\n",
       "</table>\n",
       "</div>"
      ],
      "text/plain": [
       "                                           WKT   ID  \\\n",
       "0  POINT (-58.3775508488443 -34.6288473603881)  1.0   \n",
       "1  POINT (-58.4120700769456 -34.5941919726393)  2.0   \n",
       "2  POINT (-58.4027276547828 -34.5845283357505)  4.0   \n",
       "3  POINT (-58.3851559118889 -34.6394041316484)  6.0   \n",
       "4  POINT (-58.3913114406535 -34.6341535760002)  7.0   \n",
       "\n",
       "                                              NOMBRE  \\\n",
       "0        HOSPITAL GENERAL DE NIÑOS PEDRO DE ELIZALDE   \n",
       "1        HOSPITAL GENERAL DE NIÑOS RICARDO GUTIERREZ   \n",
       "2  HOSPITAL DE ODONTOLOGIA DR. RAMON CARRILLO (EX...   \n",
       "3            HOSPITAL DE SALUD MENTAL BRAULIO MOYANO   \n",
       "4           HOSPITAL DE GASTROENTEROLOGIA B. UDAONDO   \n",
       "\n",
       "                       NOM_MAP    OBJETO                    CALLE  ALTURA  \\\n",
       "0            HOSP. DE ELIZALDE  HOSPITAL  MANUEL A. MONTES DE OCA      40   \n",
       "1              HOSP. GUTIERREZ  HOSPITAL                    GALLO    1330   \n",
       "2  HOSP. ODONTOLOGICO CARRILLO  HOSPITAL    SANCHEZ DE BUSTAMANTE    2529   \n",
       "3                 HOSP. MOYANO  HOSPITAL                 BRANDSEN    2570   \n",
       "4                HOSP. UDAONDO  HOSPITAL                  CASEROS    2061   \n",
       "\n",
       "                      DOM_NORMA                       DOM_GEO  \\\n",
       "0  MONTES DE OCA, MANUEL AV. 40  40 MONTES DE OCA, MANUEL AV.   \n",
       "1                    GALLO 1330                    1330 GALLO   \n",
       "2    SANCHEZ DE BUSTAMANTE 2529    2529 SANCHEZ DE BUSTAMANTE   \n",
       "3                 BRANDSEN 2570                 2570 BRANDSEN   \n",
       "4              CASEROS AV. 2061              2061 CASEROS AV.   \n",
       "\n",
       "                  TELEFONO                     GUARDIA           FAX  \\\n",
       "0         4307-5842 / 5844       4307-5442 / 4300-1700     4302-7400   \n",
       "1  4962-9247 / 9248 / 9280                   4962-9232     4962-3762   \n",
       "2         4805-5521 / 7533                   4805-6407     4805-7533   \n",
       "3         4301-3655 / 3659                   4301-4522  4303-3655/59   \n",
       "4        4306-4641 al 4649  4306-4641 al 49 (int. 125)     4306-3013   \n",
       "\n",
       "                   WEB COD_POSTAL                    TIPO  \\\n",
       "0  www.elizalde.gov.ar   C1270AAN       Hospital de niños   \n",
       "1      www.guti.gov.ar   C1425EFD       Hospital de niños   \n",
       "2                  NaN   C1425DUY  Hospital especializado   \n",
       "3    www.moyano.org.ar   C1287ABJ  Hospital especializado   \n",
       "4                  NaN   C1264AAA  Hospital especializado   \n",
       "\n",
       "             TIPO_ESPEC              MOD_AT_1       MOD_AT_2  \\\n",
       "0             PEDIATRIA  AT. AMB./INTERNACION  DIAG./TRATAM.   \n",
       "1             PEDIATRIA  AT. AMB./INTERNACION  DIAG./TRATAM.   \n",
       "2           ODONTOLOGIA       AT. AMBULATORIA  DIAG./TRATAM.   \n",
       "3          SALUD MENTAL  AT. AMB./INTERNACION  DIAG./TRATAM.   \n",
       "4  ENF. APAR. DIGESTIVO  AT. AMB./INTERNACION  DIAG./TRATAM.   \n",
       "\n",
       "                 DEPEND_ADM                     DIRECTOR  \n",
       "0  Ministerio de Salud GCBA            Dr. Javier Indart  \n",
       "1  Ministerio de Salud GCBA  Dra. María Cristina Galoppo  \n",
       "2  Ministerio de Salud GCBA     Dra. Susana Rita Lisanti  \n",
       "3  Ministerio de Salud GCBA            Dra. Norma Derito  \n",
       "4  Ministerio de Salud GCBA     Dr. Eduardo Gustavo Sosa  "
      ]
     },
     "execution_count": 20,
     "metadata": {},
     "output_type": "execute_result"
    }
   ],
   "source": [
    "dAtaFrame.head(5)"
   ]
  },
  {
   "cell_type": "code",
   "execution_count": 11,
   "metadata": {},
   "outputs": [
    {
     "data": {
      "text/plain": [
       "(36, 20)"
      ]
     },
     "execution_count": 11,
     "metadata": {},
     "output_type": "execute_result"
    }
   ],
   "source": [
    "dAtaFrame.shape"
   ]
  },
  {
   "cell_type": "code",
   "execution_count": 8,
   "metadata": {},
   "outputs": [
    {
     "name": "stdout",
     "output_type": "stream",
     "text": [
      "<class 'pandas.core.frame.DataFrame'>\n",
      "RangeIndex: 36 entries, 0 to 35\n",
      "Data columns (total 20 columns):\n",
      " #   Column      Non-Null Count  Dtype  \n",
      "---  ------      --------------  -----  \n",
      " 0   WKT         36 non-null     object \n",
      " 1   ID          36 non-null     float64\n",
      " 2   NOMBRE      36 non-null     object \n",
      " 3   NOM_MAP     36 non-null     object \n",
      " 4   OBJETO      36 non-null     object \n",
      " 5   CALLE       36 non-null     object \n",
      " 6   ALTURA      36 non-null     int64  \n",
      " 7   DOM_NORMA   36 non-null     object \n",
      " 8   DOM_GEO     36 non-null     object \n",
      " 9   TELEFONO    36 non-null     object \n",
      " 10  GUARDIA     34 non-null     object \n",
      " 11  FAX         35 non-null     object \n",
      " 12  WEB         13 non-null     object \n",
      " 13  COD_POSTAL  36 non-null     object \n",
      " 14  TIPO        36 non-null     object \n",
      " 15  TIPO_ESPEC  35 non-null     object \n",
      " 16  MOD_AT_1    35 non-null     object \n",
      " 17  MOD_AT_2    35 non-null     object \n",
      " 18  DEPEND_ADM  36 non-null     object \n",
      " 19  DIRECTOR    36 non-null     object \n",
      "dtypes: float64(1), int64(1), object(18)\n",
      "memory usage: 5.8+ KB\n"
     ]
    }
   ],
   "source": [
    "dAtaFrame.info()"
   ]
  },
  {
   "cell_type": "code",
   "execution_count": 12,
   "metadata": {},
   "outputs": [
    {
     "data": {
      "text/plain": [
       "Index(['WKT', 'ID', 'NOMBRE', 'NOM_MAP', 'OBJETO', 'CALLE', 'ALTURA',\n",
       "       'DOM_NORMA', 'DOM_GEO', 'TELEFONO', 'GUARDIA', 'FAX', 'WEB',\n",
       "       'COD_POSTAL', 'TIPO', 'TIPO_ESPEC', 'MOD_AT_1', 'MOD_AT_2',\n",
       "       'DEPEND_ADM', 'DIRECTOR'],\n",
       "      dtype='object')"
      ]
     },
     "execution_count": 12,
     "metadata": {},
     "output_type": "execute_result"
    }
   ],
   "source": [
    "dAtaFrame.columns"
   ]
  },
  {
   "cell_type": "code",
   "execution_count": 13,
   "metadata": {},
   "outputs": [
    {
     "data": {
      "text/plain": [
       "RangeIndex(start=0, stop=36, step=1)"
      ]
     },
     "execution_count": 13,
     "metadata": {},
     "output_type": "execute_result"
    }
   ],
   "source": [
    "dAtaFrame.index"
   ]
  },
  {
   "cell_type": "code",
   "execution_count": 22,
   "metadata": {},
   "outputs": [
    {
     "data": {
      "text/plain": [
       "Hospital especializado    19\n",
       "Hospital de agudos        14\n",
       "Hospital de niños          3\n",
       "Name: TIPO, dtype: int64"
      ]
     },
     "execution_count": 22,
     "metadata": {},
     "output_type": "execute_result"
    }
   ],
   "source": [
    "dAtaFrame.TIPO.value_counts()"
   ]
  },
  {
   "cell_type": "code",
   "execution_count": 23,
   "metadata": {},
   "outputs": [
    {
     "data": {
      "text/plain": [
       "GRAL: BAS/CRIT/OTR            13\n",
       "SALUD MENTAL                   5\n",
       "PEDIATRIA                      3\n",
       "ODONTOLOGIA                    3\n",
       "MED. FISICA/REHABILITACION     2\n",
       "OFTALMOLOGIA                   2\n",
       "ENF. APAR. DIGESTIVO           1\n",
       "ZOONOSIS                       1\n",
       "NEUMONOLOGIA                   1\n",
       "MATERNO-INFANTIL               1\n",
       "ONCOLOGIA                      1\n",
       "QUEMADOS                       1\n",
       "INFECTOLOGIA                   1\n",
       "Name: TIPO_ESPEC, dtype: int64"
      ]
     },
     "execution_count": 23,
     "metadata": {},
     "output_type": "execute_result"
    }
   ],
   "source": [
    "dAtaFrame.TIPO_ESPEC.value_counts()"
   ]
  },
  {
   "attachments": {},
   "cell_type": "markdown",
   "metadata": {},
   "source": [
    "### COPIA DATAFRAME - MANEJAR EN CASO DE POSIBLES ERRORES AL PROCESAR DATOS"
   ]
  },
  {
   "cell_type": "code",
   "execution_count": 24,
   "metadata": {},
   "outputs": [],
   "source": [
    "dAtaFrame_copia = dAtaFrame.copy()"
   ]
  },
  {
   "cell_type": "code",
   "execution_count": 36,
   "metadata": {},
   "outputs": [
    {
     "data": {
      "text/html": [
       "<div>\n",
       "<style scoped>\n",
       "    .dataframe tbody tr th:only-of-type {\n",
       "        vertical-align: middle;\n",
       "    }\n",
       "\n",
       "    .dataframe tbody tr th {\n",
       "        vertical-align: top;\n",
       "    }\n",
       "\n",
       "    .dataframe thead th {\n",
       "        text-align: right;\n",
       "    }\n",
       "</style>\n",
       "<table border=\"1\" class=\"dataframe\">\n",
       "  <thead>\n",
       "    <tr style=\"text-align: right;\">\n",
       "      <th></th>\n",
       "      <th>WKT</th>\n",
       "      <th>ID</th>\n",
       "      <th>NOMBRE</th>\n",
       "      <th>NOM_MAP</th>\n",
       "      <th>OBJETO</th>\n",
       "      <th>CALLE</th>\n",
       "      <th>ALTURA</th>\n",
       "      <th>DOM_NORMA</th>\n",
       "      <th>DOM_GEO</th>\n",
       "      <th>TELEFONO</th>\n",
       "      <th>GUARDIA</th>\n",
       "      <th>FAX</th>\n",
       "      <th>WEB</th>\n",
       "      <th>COD_POSTAL</th>\n",
       "      <th>TIPO</th>\n",
       "      <th>TIPO_ESPEC</th>\n",
       "      <th>MOD_AT_1</th>\n",
       "      <th>MOD_AT_2</th>\n",
       "      <th>DEPEND_ADM</th>\n",
       "      <th>DIRECTOR</th>\n",
       "    </tr>\n",
       "  </thead>\n",
       "  <tbody>\n",
       "    <tr>\n",
       "      <th>0</th>\n",
       "      <td>POINT (-58.3775508488443 -34.6288473603881)</td>\n",
       "      <td>1.0</td>\n",
       "      <td>HOSPITAL GENERAL DE NIÑOS PEDRO DE ELIZALDE</td>\n",
       "      <td>HOSP. DE ELIZALDE</td>\n",
       "      <td>HOSPITAL</td>\n",
       "      <td>MANUEL A. MONTES DE OCA</td>\n",
       "      <td>40</td>\n",
       "      <td>MONTES DE OCA, MANUEL AV. 40</td>\n",
       "      <td>40 MONTES DE OCA, MANUEL AV.</td>\n",
       "      <td>4307-5842 / 5844</td>\n",
       "      <td>4307-5442 / 4300-1700</td>\n",
       "      <td>4302-7400</td>\n",
       "      <td>www.elizalde.gov.ar</td>\n",
       "      <td>C1270AAN</td>\n",
       "      <td>Hospital de niños</td>\n",
       "      <td>PEDIATRIA</td>\n",
       "      <td>AT. AMB./INTERNACION</td>\n",
       "      <td>DIAG./TRATAM.</td>\n",
       "      <td>Ministerio de Salud GCBA</td>\n",
       "      <td>Dr. Javier Indart</td>\n",
       "    </tr>\n",
       "    <tr>\n",
       "      <th>1</th>\n",
       "      <td>POINT (-58.4120700769456 -34.5941919726393)</td>\n",
       "      <td>2.0</td>\n",
       "      <td>HOSPITAL GENERAL DE NIÑOS RICARDO GUTIERREZ</td>\n",
       "      <td>HOSP. GUTIERREZ</td>\n",
       "      <td>HOSPITAL</td>\n",
       "      <td>GALLO</td>\n",
       "      <td>1330</td>\n",
       "      <td>GALLO 1330</td>\n",
       "      <td>1330 GALLO</td>\n",
       "      <td>4962-9247 / 9248 / 9280</td>\n",
       "      <td>4962-9232</td>\n",
       "      <td>4962-3762</td>\n",
       "      <td>www.guti.gov.ar</td>\n",
       "      <td>C1425EFD</td>\n",
       "      <td>Hospital de niños</td>\n",
       "      <td>PEDIATRIA</td>\n",
       "      <td>AT. AMB./INTERNACION</td>\n",
       "      <td>DIAG./TRATAM.</td>\n",
       "      <td>Ministerio de Salud GCBA</td>\n",
       "      <td>Dra. María Cristina Galoppo</td>\n",
       "    </tr>\n",
       "    <tr>\n",
       "      <th>2</th>\n",
       "      <td>POINT (-58.4027276547828 -34.5845283357505)</td>\n",
       "      <td>4.0</td>\n",
       "      <td>HOSPITAL DE ODONTOLOGIA DR. RAMON CARRILLO (EX...</td>\n",
       "      <td>HOSP. ODONTOLOGICO CARRILLO</td>\n",
       "      <td>HOSPITAL</td>\n",
       "      <td>SANCHEZ DE BUSTAMANTE</td>\n",
       "      <td>2529</td>\n",
       "      <td>SANCHEZ DE BUSTAMANTE 2529</td>\n",
       "      <td>2529 SANCHEZ DE BUSTAMANTE</td>\n",
       "      <td>4805-5521 / 7533</td>\n",
       "      <td>4805-6407</td>\n",
       "      <td>4805-7533</td>\n",
       "      <td>NaN</td>\n",
       "      <td>C1425DUY</td>\n",
       "      <td>Hospital especializado</td>\n",
       "      <td>ODONTOLOGIA</td>\n",
       "      <td>AT. AMBULATORIA</td>\n",
       "      <td>DIAG./TRATAM.</td>\n",
       "      <td>Ministerio de Salud GCBA</td>\n",
       "      <td>Dra. Susana Rita Lisanti</td>\n",
       "    </tr>\n",
       "  </tbody>\n",
       "</table>\n",
       "</div>"
      ],
      "text/plain": [
       "                                           WKT   ID  \\\n",
       "0  POINT (-58.3775508488443 -34.6288473603881)  1.0   \n",
       "1  POINT (-58.4120700769456 -34.5941919726393)  2.0   \n",
       "2  POINT (-58.4027276547828 -34.5845283357505)  4.0   \n",
       "\n",
       "                                              NOMBRE  \\\n",
       "0        HOSPITAL GENERAL DE NIÑOS PEDRO DE ELIZALDE   \n",
       "1        HOSPITAL GENERAL DE NIÑOS RICARDO GUTIERREZ   \n",
       "2  HOSPITAL DE ODONTOLOGIA DR. RAMON CARRILLO (EX...   \n",
       "\n",
       "                       NOM_MAP    OBJETO                    CALLE  ALTURA  \\\n",
       "0            HOSP. DE ELIZALDE  HOSPITAL  MANUEL A. MONTES DE OCA      40   \n",
       "1              HOSP. GUTIERREZ  HOSPITAL                    GALLO    1330   \n",
       "2  HOSP. ODONTOLOGICO CARRILLO  HOSPITAL    SANCHEZ DE BUSTAMANTE    2529   \n",
       "\n",
       "                      DOM_NORMA                       DOM_GEO  \\\n",
       "0  MONTES DE OCA, MANUEL AV. 40  40 MONTES DE OCA, MANUEL AV.   \n",
       "1                    GALLO 1330                    1330 GALLO   \n",
       "2    SANCHEZ DE BUSTAMANTE 2529    2529 SANCHEZ DE BUSTAMANTE   \n",
       "\n",
       "                  TELEFONO                GUARDIA        FAX  \\\n",
       "0         4307-5842 / 5844  4307-5442 / 4300-1700  4302-7400   \n",
       "1  4962-9247 / 9248 / 9280              4962-9232  4962-3762   \n",
       "2         4805-5521 / 7533              4805-6407  4805-7533   \n",
       "\n",
       "                   WEB COD_POSTAL                    TIPO   TIPO_ESPEC  \\\n",
       "0  www.elizalde.gov.ar   C1270AAN       Hospital de niños    PEDIATRIA   \n",
       "1      www.guti.gov.ar   C1425EFD       Hospital de niños    PEDIATRIA   \n",
       "2                  NaN   C1425DUY  Hospital especializado  ODONTOLOGIA   \n",
       "\n",
       "               MOD_AT_1       MOD_AT_2                DEPEND_ADM  \\\n",
       "0  AT. AMB./INTERNACION  DIAG./TRATAM.  Ministerio de Salud GCBA   \n",
       "1  AT. AMB./INTERNACION  DIAG./TRATAM.  Ministerio de Salud GCBA   \n",
       "2       AT. AMBULATORIA  DIAG./TRATAM.  Ministerio de Salud GCBA   \n",
       "\n",
       "                      DIRECTOR  \n",
       "0            Dr. Javier Indart  \n",
       "1  Dra. María Cristina Galoppo  \n",
       "2     Dra. Susana Rita Lisanti  "
      ]
     },
     "execution_count": 36,
     "metadata": {},
     "output_type": "execute_result"
    }
   ],
   "source": [
    "dAtaFrame_copia.head(3)"
   ]
  },
  {
   "attachments": {},
   "cell_type": "markdown",
   "metadata": {},
   "source": [
    "### ALGUNOS METODOS RELEVANTES"
   ]
  },
  {
   "cell_type": "code",
   "execution_count": 47,
   "metadata": {},
   "outputs": [],
   "source": [
    "#dAtaFrame.drop(columns=['DOM_GEO'], inplace = True)"
   ]
  },
  {
   "cell_type": "code",
   "execution_count": 27,
   "metadata": {},
   "outputs": [
    {
     "data": {
      "text/plain": [
       "23"
      ]
     },
     "execution_count": 27,
     "metadata": {},
     "output_type": "execute_result"
    }
   ],
   "source": [
    "dAtaFrame.ALTURA.idxmax()"
   ]
  },
  {
   "cell_type": "code",
   "execution_count": 28,
   "metadata": {},
   "outputs": [
    {
     "data": {
      "text/plain": [
       "WKT                  POINT (-58.437981361705 -34.6089728538414)\n",
       "ID                                                         26.0\n",
       "NOMBRE                 HOSPITAL GENERAL DE AGUDOS DR. C. DURAND\n",
       "NOM_MAP                                            HOSP. DURAND\n",
       "OBJETO                                                 HOSPITAL\n",
       "CALLE                                                DIAZ VELEZ\n",
       "ALTURA                                                     5044\n",
       "DOM_NORMA                                   DIAZ VELEZ AV. 5044\n",
       "DOM_GEO                                     5044 DIAZ VELEZ AV.\n",
       "TELEFONO      4982-5555 / 4982-5655 Conmutador 4982-1050 / 4...\n",
       "GUARDIA                       4982-1771 / 4982-5555 / 4981-2790\n",
       "FAX                                                   4982-2677\n",
       "WEB                                   www.hospitaldurand.org.ar\n",
       "COD_POSTAL                                             C1405DCS\n",
       "TIPO                                         Hospital de agudos\n",
       "TIPO_ESPEC                                   GRAL: BAS/CRIT/OTR\n",
       "MOD_AT_1                                   AT. AMB./INTERNACION\n",
       "MOD_AT_2                                          DIAG./TRATAM.\n",
       "DEPEND_ADM                             Ministerio de Salud GCBA\n",
       "DIRECTOR                              Dr. Bolla Horacio Alberto\n",
       "Name: 23, dtype: object"
      ]
     },
     "execution_count": 28,
     "metadata": {},
     "output_type": "execute_result"
    }
   ],
   "source": [
    "dAtaFrame.loc[23]"
   ]
  },
  {
   "cell_type": "code",
   "execution_count": 29,
   "metadata": {},
   "outputs": [
    {
     "data": {
      "text/plain": [
       "5044"
      ]
     },
     "execution_count": 29,
     "metadata": {},
     "output_type": "execute_result"
    }
   ],
   "source": [
    "dAtaFrame.loc[23, 'ALTURA']"
   ]
  },
  {
   "cell_type": "code",
   "execution_count": 30,
   "metadata": {},
   "outputs": [
    {
     "data": {
      "text/plain": [
       "2074.0555555555557"
      ]
     },
     "execution_count": 30,
     "metadata": {},
     "output_type": "execute_result"
    }
   ],
   "source": [
    "dAtaFrame.ALTURA.mean()"
   ]
  },
  {
   "cell_type": "code",
   "execution_count": 34,
   "metadata": {},
   "outputs": [
    {
     "data": {
      "text/plain": [
       "<pandas.core.groupby.generic.DataFrameGroupBy object at 0x0000017A535A4410>"
      ]
     },
     "execution_count": 34,
     "metadata": {},
     "output_type": "execute_result"
    }
   ],
   "source": [
    "dAtaFrame[['TIPO','TIPO_ESPEC']].groupby(['TIPO_ESPEC'])\n"
   ]
  },
  {
   "cell_type": "code",
   "execution_count": 87,
   "metadata": {},
   "outputs": [],
   "source": [
    "#dAtaFrame_2['LATITUDE'] = dAtaFrame.apply(lambda row: hash_function(row['Cod_pais']), axis=1)"
   ]
  },
  {
   "attachments": {},
   "cell_type": "markdown",
   "metadata": {},
   "source": [
    "# RESPUESTA"
   ]
  },
  {
   "attachments": {},
   "cell_type": "markdown",
   "metadata": {},
   "source": [
    "A partir del CSV hospitales2.csv, generar un archivo CSV de salida, que contenga los siguientes campos en este orden:<br>\n",
    "\n",
    "latitude<br>\n",
    "longitude<br>\n",
    "name<br>\n",
    "label<br>\n",
    "\n",
    "\n",
    "Con los correspondientes datos extraídos del CSV original, el campo name tiene que corresponder con la dirección del hospital, y el campo label con el nombre del hospital."
   ]
  },
  {
   "cell_type": "code",
   "execution_count": 41,
   "metadata": {},
   "outputs": [
    {
     "data": {
      "text/plain": [
       "WKT           POINT (-58.3775508488443 -34.6288473603881)\n",
       "ID                                                    1.0\n",
       "NOMBRE        HOSPITAL GENERAL DE NIÑOS PEDRO DE ELIZALDE\n",
       "NOM_MAP                                 HOSP. DE ELIZALDE\n",
       "OBJETO                                           HOSPITAL\n",
       "CALLE                             MANUEL A. MONTES DE OCA\n",
       "ALTURA                                                 40\n",
       "DOM_NORMA                    MONTES DE OCA, MANUEL AV. 40\n",
       "DOM_GEO                      40 MONTES DE OCA, MANUEL AV.\n",
       "TELEFONO                                 4307-5842 / 5844\n",
       "GUARDIA                             4307-5442 / 4300-1700\n",
       "FAX                                             4302-7400\n",
       "WEB                                   www.elizalde.gov.ar\n",
       "COD_POSTAL                                       C1270AAN\n",
       "TIPO                                    Hospital de niños\n",
       "TIPO_ESPEC                                      PEDIATRIA\n",
       "MOD_AT_1                             AT. AMB./INTERNACION\n",
       "MOD_AT_2                                    DIAG./TRATAM.\n",
       "DEPEND_ADM                       Ministerio de Salud GCBA\n",
       "DIRECTOR                                Dr. Javier Indart\n",
       "Name: 0, dtype: object"
      ]
     },
     "execution_count": 41,
     "metadata": {},
     "output_type": "execute_result"
    }
   ],
   "source": [
    "dAtaFrame.loc[0]"
   ]
  },
  {
   "cell_type": "code",
   "execution_count": 40,
   "metadata": {},
   "outputs": [
    {
     "data": {
      "text/plain": [
       "'POINT (-58.3775508488443 -34.6288473603881)'"
      ]
     },
     "execution_count": 40,
     "metadata": {},
     "output_type": "execute_result"
    }
   ],
   "source": [
    "dAtaFrame.loc[0, 'WKT']"
   ]
  },
  {
   "attachments": {},
   "cell_type": "markdown",
   "metadata": {},
   "source": [
    "WKT[i, j]<br>\n",
    "LATITUDE = WKT POINT [J]<br>\n",
    "LONGITUDE = WKT POINT [i]<br>\n",
    "NAME = DOM_NORMA<br>\n",
    "LABEL = NOMBRE"
   ]
  },
  {
   "cell_type": "code",
   "execution_count": 103,
   "metadata": {},
   "outputs": [],
   "source": [
    "dAtaFrame_2 = dAtaFrame[['DOM_NORMA', 'NOMBRE']].drop_duplicates()"
   ]
  },
  {
   "cell_type": "code",
   "execution_count": 96,
   "metadata": {},
   "outputs": [
    {
     "data": {
      "text/html": [
       "<div>\n",
       "<style scoped>\n",
       "    .dataframe tbody tr th:only-of-type {\n",
       "        vertical-align: middle;\n",
       "    }\n",
       "\n",
       "    .dataframe tbody tr th {\n",
       "        vertical-align: top;\n",
       "    }\n",
       "\n",
       "    .dataframe thead th {\n",
       "        text-align: right;\n",
       "    }\n",
       "</style>\n",
       "<table border=\"1\" class=\"dataframe\">\n",
       "  <thead>\n",
       "    <tr style=\"text-align: right;\">\n",
       "      <th></th>\n",
       "      <th>DOM_NORMA</th>\n",
       "      <th>NOMBRE</th>\n",
       "    </tr>\n",
       "  </thead>\n",
       "  <tbody>\n",
       "    <tr>\n",
       "      <th>0</th>\n",
       "      <td>MONTES DE OCA, MANUEL AV. 40</td>\n",
       "      <td>HOSPITAL GENERAL DE NIÑOS PEDRO DE ELIZALDE</td>\n",
       "    </tr>\n",
       "    <tr>\n",
       "      <th>1</th>\n",
       "      <td>GALLO 1330</td>\n",
       "      <td>HOSPITAL GENERAL DE NIÑOS RICARDO GUTIERREZ</td>\n",
       "    </tr>\n",
       "    <tr>\n",
       "      <th>2</th>\n",
       "      <td>SANCHEZ DE BUSTAMANTE 2529</td>\n",
       "      <td>HOSPITAL DE ODONTOLOGIA DR. RAMON CARRILLO (EX...</td>\n",
       "    </tr>\n",
       "  </tbody>\n",
       "</table>\n",
       "</div>"
      ],
      "text/plain": [
       "                      DOM_NORMA  \\\n",
       "0  MONTES DE OCA, MANUEL AV. 40   \n",
       "1                    GALLO 1330   \n",
       "2    SANCHEZ DE BUSTAMANTE 2529   \n",
       "\n",
       "                                              NOMBRE  \n",
       "0        HOSPITAL GENERAL DE NIÑOS PEDRO DE ELIZALDE  \n",
       "1        HOSPITAL GENERAL DE NIÑOS RICARDO GUTIERREZ  \n",
       "2  HOSPITAL DE ODONTOLOGIA DR. RAMON CARRILLO (EX...  "
      ]
     },
     "execution_count": 96,
     "metadata": {},
     "output_type": "execute_result"
    }
   ],
   "source": [
    "dAtaFrame_2.head(3)"
   ]
  },
  {
   "cell_type": "code",
   "execution_count": 118,
   "metadata": {},
   "outputs": [],
   "source": [
    "dAtaFrame_2.rename(columns={'DOM_NORMA':'NAME', \n",
    "                    'NOMBRE':'LABEL'}, inplace=True)"
   ]
  },
  {
   "cell_type": "code",
   "execution_count": 119,
   "metadata": {},
   "outputs": [
    {
     "data": {
      "text/html": [
       "<div>\n",
       "<style scoped>\n",
       "    .dataframe tbody tr th:only-of-type {\n",
       "        vertical-align: middle;\n",
       "    }\n",
       "\n",
       "    .dataframe tbody tr th {\n",
       "        vertical-align: top;\n",
       "    }\n",
       "\n",
       "    .dataframe thead th {\n",
       "        text-align: right;\n",
       "    }\n",
       "</style>\n",
       "<table border=\"1\" class=\"dataframe\">\n",
       "  <thead>\n",
       "    <tr style=\"text-align: right;\">\n",
       "      <th></th>\n",
       "      <th>NAME</th>\n",
       "      <th>LABEL</th>\n",
       "      <th>LATITUDE</th>\n",
       "    </tr>\n",
       "  </thead>\n",
       "  <tbody>\n",
       "    <tr>\n",
       "      <th>0</th>\n",
       "      <td>MONTES DE OCA, MANUEL AV. 40</td>\n",
       "      <td>HOSPITAL GENERAL DE NIÑOS PEDRO DE ELIZALDE</td>\n",
       "      <td>-58.3775508488443</td>\n",
       "    </tr>\n",
       "    <tr>\n",
       "      <th>1</th>\n",
       "      <td>GALLO 1330</td>\n",
       "      <td>HOSPITAL GENERAL DE NIÑOS RICARDO GUTIERREZ</td>\n",
       "      <td>-58.4120700769456</td>\n",
       "    </tr>\n",
       "    <tr>\n",
       "      <th>2</th>\n",
       "      <td>SANCHEZ DE BUSTAMANTE 2529</td>\n",
       "      <td>HOSPITAL DE ODONTOLOGIA DR. RAMON CARRILLO (EX...</td>\n",
       "      <td>-58.4027276547828</td>\n",
       "    </tr>\n",
       "  </tbody>\n",
       "</table>\n",
       "</div>"
      ],
      "text/plain": [
       "                           NAME  \\\n",
       "0  MONTES DE OCA, MANUEL AV. 40   \n",
       "1                    GALLO 1330   \n",
       "2    SANCHEZ DE BUSTAMANTE 2529   \n",
       "\n",
       "                                               LABEL           LATITUDE  \n",
       "0        HOSPITAL GENERAL DE NIÑOS PEDRO DE ELIZALDE  -58.3775508488443  \n",
       "1        HOSPITAL GENERAL DE NIÑOS RICARDO GUTIERREZ  -58.4120700769456  \n",
       "2  HOSPITAL DE ODONTOLOGIA DR. RAMON CARRILLO (EX...  -58.4027276547828  "
      ]
     },
     "execution_count": 119,
     "metadata": {},
     "output_type": "execute_result"
    }
   ],
   "source": [
    "dAtaFrame_2.head(3)"
   ]
  },
  {
   "cell_type": "code",
   "execution_count": 120,
   "metadata": {},
   "outputs": [],
   "source": [
    "def coordenada_lat(dato):    \n",
    "    dato = dato.strip('POINT ()')\n",
    "    lista = dato.split(' ')\n",
    "    latitude = lista[0]\n",
    "    \n",
    "    return latitude"
   ]
  },
  {
   "cell_type": "code",
   "execution_count": 121,
   "metadata": {},
   "outputs": [],
   "source": [
    "dAtaFrame_2['LATITUDE'] = dAtaFrame['WKT'].apply(coordenada_lat)"
   ]
  },
  {
   "cell_type": "code",
   "execution_count": 122,
   "metadata": {},
   "outputs": [],
   "source": [
    "def coordenada_lon(dato):    \n",
    "    dato = dato.strip('POINT ()')\n",
    "    lista = dato.split(' ')\n",
    "    longitude = lista[1]\n",
    "    \n",
    "    return longitude"
   ]
  },
  {
   "cell_type": "code",
   "execution_count": 123,
   "metadata": {},
   "outputs": [],
   "source": [
    "dAtaFrame_2['LONGITUDE'] = dAtaFrame['WKT'].apply(coordenada_lon)"
   ]
  },
  {
   "cell_type": "code",
   "execution_count": 124,
   "metadata": {},
   "outputs": [
    {
     "data": {
      "text/html": [
       "<div>\n",
       "<style scoped>\n",
       "    .dataframe tbody tr th:only-of-type {\n",
       "        vertical-align: middle;\n",
       "    }\n",
       "\n",
       "    .dataframe tbody tr th {\n",
       "        vertical-align: top;\n",
       "    }\n",
       "\n",
       "    .dataframe thead th {\n",
       "        text-align: right;\n",
       "    }\n",
       "</style>\n",
       "<table border=\"1\" class=\"dataframe\">\n",
       "  <thead>\n",
       "    <tr style=\"text-align: right;\">\n",
       "      <th></th>\n",
       "      <th>NAME</th>\n",
       "      <th>LABEL</th>\n",
       "      <th>LATITUDE</th>\n",
       "      <th>LONGITUDE</th>\n",
       "    </tr>\n",
       "  </thead>\n",
       "  <tbody>\n",
       "    <tr>\n",
       "      <th>0</th>\n",
       "      <td>MONTES DE OCA, MANUEL AV. 40</td>\n",
       "      <td>HOSPITAL GENERAL DE NIÑOS PEDRO DE ELIZALDE</td>\n",
       "      <td>-58.3775508488443</td>\n",
       "      <td>-34.6288473603881</td>\n",
       "    </tr>\n",
       "    <tr>\n",
       "      <th>1</th>\n",
       "      <td>GALLO 1330</td>\n",
       "      <td>HOSPITAL GENERAL DE NIÑOS RICARDO GUTIERREZ</td>\n",
       "      <td>-58.4120700769456</td>\n",
       "      <td>-34.5941919726393</td>\n",
       "    </tr>\n",
       "    <tr>\n",
       "      <th>2</th>\n",
       "      <td>SANCHEZ DE BUSTAMANTE 2529</td>\n",
       "      <td>HOSPITAL DE ODONTOLOGIA DR. RAMON CARRILLO (EX...</td>\n",
       "      <td>-58.4027276547828</td>\n",
       "      <td>-34.5845283357505</td>\n",
       "    </tr>\n",
       "    <tr>\n",
       "      <th>3</th>\n",
       "      <td>BRANDSEN 2570</td>\n",
       "      <td>HOSPITAL DE SALUD MENTAL BRAULIO MOYANO</td>\n",
       "      <td>-58.3851559118889</td>\n",
       "      <td>-34.6394041316484</td>\n",
       "    </tr>\n",
       "    <tr>\n",
       "      <th>4</th>\n",
       "      <td>CASEROS AV. 2061</td>\n",
       "      <td>HOSPITAL DE GASTROENTEROLOGIA B. UDAONDO</td>\n",
       "      <td>-58.3913114406535</td>\n",
       "      <td>-34.6341535760002</td>\n",
       "    </tr>\n",
       "  </tbody>\n",
       "</table>\n",
       "</div>"
      ],
      "text/plain": [
       "                           NAME  \\\n",
       "0  MONTES DE OCA, MANUEL AV. 40   \n",
       "1                    GALLO 1330   \n",
       "2    SANCHEZ DE BUSTAMANTE 2529   \n",
       "3                 BRANDSEN 2570   \n",
       "4              CASEROS AV. 2061   \n",
       "\n",
       "                                               LABEL           LATITUDE  \\\n",
       "0        HOSPITAL GENERAL DE NIÑOS PEDRO DE ELIZALDE  -58.3775508488443   \n",
       "1        HOSPITAL GENERAL DE NIÑOS RICARDO GUTIERREZ  -58.4120700769456   \n",
       "2  HOSPITAL DE ODONTOLOGIA DR. RAMON CARRILLO (EX...  -58.4027276547828   \n",
       "3            HOSPITAL DE SALUD MENTAL BRAULIO MOYANO  -58.3851559118889   \n",
       "4           HOSPITAL DE GASTROENTEROLOGIA B. UDAONDO  -58.3913114406535   \n",
       "\n",
       "           LONGITUDE  \n",
       "0  -34.6288473603881  \n",
       "1  -34.5941919726393  \n",
       "2  -34.5845283357505  \n",
       "3  -34.6394041316484  \n",
       "4  -34.6341535760002  "
      ]
     },
     "execution_count": 124,
     "metadata": {},
     "output_type": "execute_result"
    }
   ],
   "source": [
    "dAtaFrame_2.head()"
   ]
  },
  {
   "cell_type": "code",
   "execution_count": 126,
   "metadata": {},
   "outputs": [],
   "source": [
    "dAtaFrame_2.to_csv('dAtaFrame_Clase4.csv', index=False, sep=',')"
   ]
  }
 ],
 "metadata": {
  "kernelspec": {
   "display_name": "Python 3",
   "language": "python",
   "name": "python3"
  },
  "language_info": {
   "codemirror_mode": {
    "name": "ipython",
    "version": 3
   },
   "file_extension": ".py",
   "mimetype": "text/x-python",
   "name": "python",
   "nbconvert_exporter": "python",
   "pygments_lexer": "ipython3",
   "version": "3.11.1"
  },
  "orig_nbformat": 4,
  "vscode": {
   "interpreter": {
    "hash": "c2add6e69ce8512bc31365b658e10cbfaf78d0317c05b0a2cac7a34cd9db6954"
   }
  }
 },
 "nbformat": 4,
 "nbformat_minor": 2
}
