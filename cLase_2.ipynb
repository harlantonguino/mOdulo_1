{
 "cells": [
  {
   "attachments": {},
   "cell_type": "markdown",
   "metadata": {},
   "source": [
    "# PRACTICA CLASE 2"
   ]
  },
  {
   "attachments": {},
   "cell_type": "markdown",
   "metadata": {},
   "source": [
    "1) Abrir el archivo \"Emisiones_CO2.csv\" y cargar sus datos en un diccionario.\n",
    "2) a) ¿Cuántas variables hay? <br>\n",
    "b) ¿Qué tipos de datos usar para cada una? <br>\n",
    "c) ¿Qué tipo de variables son? <br>\n",
    "d) ¿Hay valores faltantes? <br>\n",
    "e) ¿Cuál es el total de emisiones de CO2 para 'América Latina y Caribe' en el año 2010?"
   ]
  },
  {
   "cell_type": "code",
   "execution_count": 2,
   "metadata": {},
   "outputs": [],
   "source": [
    "#import os\n",
    "archivo = open('Emisiones_CO2.csv', 'r')"
   ]
  },
  {
   "cell_type": "code",
   "execution_count": 3,
   "metadata": {},
   "outputs": [],
   "source": [
    "dicc_emisiones = {  'cod_pais' : [],\n",
    "                    'nom_pais' : [],\n",
    "                    'region' : [],\n",
    "                    'anio' : [],\n",
    "                    'co2' : [],\n",
    "                    'co2_percapita' : []}"
   ]
  },
  {
   "cell_type": "code",
   "execution_count": 4,
   "metadata": {},
   "outputs": [
    {
     "data": {
      "text/plain": [
       "'Código de país|Nombre del país|Región|Año|CO2 (kt)|CO2 per cápita (toneladas métricas)\\n'"
      ]
     },
     "execution_count": 4,
     "metadata": {},
     "output_type": "execute_result"
    }
   ],
   "source": [
    "next(archivo)"
   ]
  },
  {
   "cell_type": "code",
   "execution_count": 5,
   "metadata": {},
   "outputs": [],
   "source": [
    "count1 = 0                                                  #cuenta '|'\n",
    "aux1 = ''                                                   #dato                                      \n",
    "\n",
    "for columna in archivo:                                     #recorre el archivo, guarda el string en columna                                                         \n",
    "    for i in columna:                                       #recorre la columna, guarda el caracter en i\n",
    "        if i == '|':                                        #para cada vez que encuentre el caaracter '|'\n",
    "            match count1:                                   #cuantas veces lo ha encontrado, switch\n",
    "                case 0:                                     #al ser la primera vez que encuentra el caracter '|'\n",
    "                    dicc_emisiones['cod_pais'].append(aux1) #devuelve el dato aux1 lo guarda el el dicc \n",
    "                    aux1 = ''                               #reinicia auxiliar  \n",
    "                    count1 += 1                             #agrega 1 a la cuenta del caracter '|'\n",
    "                case 1:\n",
    "                    dicc_emisiones['nom_pais'].append(aux1)\n",
    "                    aux1 = ''\n",
    "                    count1 += 1\n",
    "                case 2:\n",
    "                    dicc_emisiones['region'].append(aux1)\n",
    "                    aux1 = ''\n",
    "                    count1 += 1\n",
    "                case 3:\n",
    "                    dicc_emisiones['anio'].append(aux1)\n",
    "                    aux1 = ''\n",
    "                    count1 += 1\n",
    "                case 4:\n",
    "                    dicc_emisiones['co2'].append(aux1)\n",
    "                    aux1 = ''\n",
    "                    count1 += 1\n",
    "                #case _:\n",
    "                #    dicc_emisiones['co2_percapita'].append(aux1)   #'_'si ninguno de los casos anteriores ejecutar, el codigo nunca entraba ya q no encontraba caracter '|' al final de la columna\n",
    "                #    print(aux1)\n",
    "                #    aux1 = ''\n",
    "                #    count1 = 0\n",
    "        elif i == '\\n':                                     #al encontrar caracter '\\n' significa final de la columna, guarda el ultimo dato de la columna\n",
    "            dicc_emisiones['co2_percapita'].append(aux1)    \n",
    "            aux1 = ''                                                           \n",
    "            count1 = 0 \n",
    "        else:                                               \n",
    "            aux1 += i  "
   ]
  },
  {
   "cell_type": "code",
   "execution_count": 6,
   "metadata": {},
   "outputs": [],
   "source": [
    "archivo.close()"
   ]
  },
  {
   "cell_type": "code",
   "execution_count": 7,
   "metadata": {},
   "outputs": [
    {
     "data": {
      "text/plain": [
       "'29,620164768'"
      ]
     },
     "execution_count": 7,
     "metadata": {},
     "output_type": "execute_result"
    }
   ],
   "source": [
    "dicc_emisiones['co2_percapita'][30]"
   ]
  },
  {
   "cell_type": "code",
   "execution_count": 8,
   "metadata": {},
   "outputs": [],
   "source": [
    "def normalizacion(lista):\n",
    "    for indice, elemento in enumerate(lista):\n",
    "        if elemento:\n",
    "            elemento = elemento.replace('.', '')\n",
    "            elemento = elemento.replace(',', '.')\n",
    "            elemento = float(elemento)\n",
    "        else:\n",
    "            elemento = None\n",
    "\n",
    "        lista[indice] = elemento\n",
    "\n",
    "    return lista"
   ]
  },
  {
   "cell_type": "code",
   "execution_count": 9,
   "metadata": {},
   "outputs": [],
   "source": [
    "dicc_emisiones['co2'] = normalizacion(dicc_emisiones['co2'])"
   ]
  },
  {
   "cell_type": "code",
   "execution_count": 10,
   "metadata": {},
   "outputs": [],
   "source": [
    "dicc_emisiones['co2_percapita'] = normalizacion(dicc_emisiones['co2_percapita'])"
   ]
  },
  {
   "cell_type": "code",
   "execution_count": 11,
   "metadata": {},
   "outputs": [
    {
     "data": {
      "text/plain": [
       "29.620164768"
      ]
     },
     "execution_count": 11,
     "metadata": {},
     "output_type": "execute_result"
    }
   ],
   "source": [
    "dicc_emisiones['co2_percapita'][30]"
   ]
  },
  {
   "cell_type": "code",
   "execution_count": 12,
   "metadata": {},
   "outputs": [
    {
     "data": {
      "text/plain": [
       "str"
      ]
     },
     "execution_count": 12,
     "metadata": {},
     "output_type": "execute_result"
    }
   ],
   "source": [
    "type(dicc_emisiones['anio'][30])"
   ]
  },
  {
   "cell_type": "code",
   "execution_count": 13,
   "metadata": {},
   "outputs": [],
   "source": [
    "for indice, elemento in enumerate(dicc_emisiones['anio']):\n",
    "    dicc_emisiones['anio'][indice] = int(elemento)\n"
   ]
  },
  {
   "cell_type": "code",
   "execution_count": 14,
   "metadata": {},
   "outputs": [
    {
     "data": {
      "text/plain": [
       "int"
      ]
     },
     "execution_count": 14,
     "metadata": {},
     "output_type": "execute_result"
    }
   ],
   "source": [
    "type(dicc_emisiones['anio'][30])"
   ]
  },
  {
   "cell_type": "code",
   "execution_count": 15,
   "metadata": {},
   "outputs": [],
   "source": [
    "emisiones = 0\n",
    "\n",
    "for i in range(len(dicc_emisiones['region'])):\n",
    "    if dicc_emisiones['region'][i] == 'América Latina y Caribe' and dicc_emisiones['anio'][i] == 2010:\n",
    "        if dicc_emisiones['co2'][i]:\n",
    "            emisiones += dicc_emisiones['co2'][i]"
   ]
  },
  {
   "cell_type": "code",
   "execution_count": 16,
   "metadata": {},
   "outputs": [
    {
     "data": {
      "text/plain": [
       "1691634.8009999995"
      ]
     },
     "execution_count": 16,
     "metadata": {},
     "output_type": "execute_result"
    }
   ],
   "source": [
    "emisiones"
   ]
  }
 ],
 "metadata": {
  "kernelspec": {
   "display_name": "Python 3",
   "language": "python",
   "name": "python3"
  },
  "language_info": {
   "codemirror_mode": {
    "name": "ipython",
    "version": 3
   },
   "file_extension": ".py",
   "mimetype": "text/x-python",
   "name": "python",
   "nbconvert_exporter": "python",
   "pygments_lexer": "ipython3",
   "version": "3.11.1"
  },
  "orig_nbformat": 4,
  "vscode": {
   "interpreter": {
    "hash": "c2add6e69ce8512bc31365b658e10cbfaf78d0317c05b0a2cac7a34cd9db6954"
   }
  }
 },
 "nbformat": 4,
 "nbformat_minor": 2
}
