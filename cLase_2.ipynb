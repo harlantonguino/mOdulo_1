{
 "cells": [
  {
   "attachments": {},
   "cell_type": "markdown",
   "metadata": {},
   "source": [
    "# PRACTICA CLASE 2"
   ]
  },
  {
   "attachments": {},
   "cell_type": "markdown",
   "metadata": {},
   "source": [
    "1) Abrir el archivo \"Emisiones_CO2.csv\" y cargar sus datos en un diccionario.\n",
    "2) a) ¿Cuántas variables hay? <br>\n",
    "b) ¿Qué tipos de datos usar para cada una? <br>\n",
    "c) ¿Qué tipo de variables son? <br>\n",
    "d) ¿Hay valores faltantes? <br>\n",
    "e) ¿Cuál es el total de emisiones de CO2 para 'América Latina y Caribe' en el año 2010?"
   ]
  },
  {
   "cell_type": "code",
   "execution_count": 64,
   "metadata": {},
   "outputs": [],
   "source": [
    "import os\n",
    "archivo = open('Emisiones_CO2.csv', 'r')"
   ]
  },
  {
   "cell_type": "code",
   "execution_count": 65,
   "metadata": {},
   "outputs": [],
   "source": [
    "dicc_emisiones = {  'cod_pais' : [],\n",
    "                    'nom_pais' : [],\n",
    "                    'region' : [],\n",
    "                    'anio' : [],\n",
    "                    'co2' : [],\n",
    "                    'co2_percapita' : []}"
   ]
  },
  {
   "cell_type": "code",
   "execution_count": 66,
   "metadata": {},
   "outputs": [
    {
     "name": "stdout",
     "output_type": "stream",
     "text": [
      "Código de país|Nombre del país|Región|Año|CO2 (kt)|CO2 per cápita (toneladas métricas)\n",
      "\n"
     ]
    }
   ],
   "source": [
    "for dato in archivo:\n",
    "    print(dato)\n",
    "    break  "
   ]
  },
  {
   "cell_type": "code",
   "execution_count": 67,
   "metadata": {},
   "outputs": [
    {
     "name": "stdout",
     "output_type": "stream",
     "text": [
      "Código de país\n",
      "Nombre del país\n",
      "Región\n",
      "Año\n",
      "CO2 (kt)\n"
     ]
    }
   ],
   "source": [
    "count1 = 0                                                  #cuenta '|'\n",
    "aux1 = ''                                                   \n",
    "aux2 = ''\n",
    "                                                            \n",
    "for i in dato:\n",
    "    if i != '|':\n",
    "        aux1 += i\n",
    "        \n",
    "    else:   \n",
    "        match count1:\n",
    "            case 0:\n",
    "                dicc_emisiones['cod_pais'].append(aux1)\n",
    "                print(aux1)\n",
    "                aux1 = ''\n",
    "                count1 += 1\n",
    "            case 1:\n",
    "                dicc_emisiones['nom_pais'].append(aux1)\n",
    "                print(aux1)\n",
    "                aux1 = ''\n",
    "                count1 += 1\n",
    "            case 2:\n",
    "                dicc_emisiones['region'].append(aux1)\n",
    "                print(aux1)\n",
    "                aux1 = ''\n",
    "                count1 += 1\n",
    "            case 3:\n",
    "                dicc_emisiones['anio'].append(aux1)\n",
    "                print(aux1)\n",
    "                aux1 = ''\n",
    "                count1 += 1\n",
    "            case 4:\n",
    "                dicc_emisiones['co2'].append(aux1)\n",
    "                print(aux1)\n",
    "                aux1 = ''\n",
    "                count1 += 1\n",
    "            case 5:\n",
    "                dicc_emisiones['co2_percapita'].append(aux1)\n",
    "                print(aux1)\n",
    "                aux1 = ''\n",
    "                count1 += 1\n",
    "    \n",
    "#print(dicc_emisiones)\n"
   ]
  }
 ],
 "metadata": {
  "kernelspec": {
   "display_name": "Python 3",
   "language": "python",
   "name": "python3"
  },
  "language_info": {
   "codemirror_mode": {
    "name": "ipython",
    "version": 3
   },
   "file_extension": ".py",
   "mimetype": "text/x-python",
   "name": "python",
   "nbconvert_exporter": "python",
   "pygments_lexer": "ipython3",
   "version": "3.11.1"
  },
  "orig_nbformat": 4,
  "vscode": {
   "interpreter": {
    "hash": "c2add6e69ce8512bc31365b658e10cbfaf78d0317c05b0a2cac7a34cd9db6954"
   }
  }
 },
 "nbformat": 4,
 "nbformat_minor": 2
}
