{
 "cells": [
  {
   "attachments": {},
   "cell_type": "markdown",
   "metadata": {},
   "source": [
    "## PRACTICA CLASE 1"
   ]
  },
  {
   "attachments": {},
   "cell_type": "markdown",
   "metadata": {},
   "source": [
    "### 1"
   ]
  },
  {
   "cell_type": "code",
   "execution_count": 9,
   "metadata": {},
   "outputs": [],
   "source": [
    "def NumeroBinario(numero):\n",
    "    '''\n",
    "    Esta función recibe como parámetro un número entero mayor ó igual a cero y lo devuelve en su \n",
    "    representación binaria. Debe recibir y devolver un valor de tipo entero.\n",
    "    En caso de que el parámetro no sea de tipo entero y mayor a -1 retorna nulo.\n",
    "    '''\n",
    "    \n",
    "    resultado = 0\n",
    "    aux1 = 0\n",
    "    aux2 = []\n",
    "    aux3 = ''\n",
    "\n",
    "    if type(numero) == int and numero >= 0:                         \n",
    "        while (numero != 1):\n",
    "            aux1 = numero % 2\n",
    "            aux2.append(aux1)\n",
    "            numero = numero // 2\n",
    "        aux2.append(1)\n",
    "    else:\n",
    "        resultado = None      \n",
    "    aux2.reverse()         \n",
    "\n",
    "    for i in aux2:\n",
    "        aux3 += str(i)\n",
    "        resultado = int(aux3) \n",
    " \n",
    "    return resultado"
   ]
  },
  {
   "cell_type": "code",
   "execution_count": 11,
   "metadata": {},
   "outputs": [
    {
     "data": {
      "text/plain": [
       "1100"
      ]
     },
     "execution_count": 11,
     "metadata": {},
     "output_type": "execute_result"
    }
   ],
   "source": [
    "NumeroBinario(12)"
   ]
  },
  {
   "cell_type": "code",
   "execution_count": 10,
   "metadata": {},
   "outputs": [],
   "source": [
    "def BinarioFraccionario(numero):\n",
    "\n",
    "    resultado = 0\n",
    "    aux1 = []\n",
    "    aux2 = ''\n",
    "    \n",
    "    if type(numero) == float and numero >= 0:                         \n",
    "        while (numero != 1):\n",
    "            numero = numero * 2\n",
    "            if numero == 1:\n",
    "                aux1.append(1)\n",
    "            elif numero > 1:\n",
    "                aux1.append(1)\n",
    "                numero = numero - 1\n",
    "            else:\n",
    "                aux1.append(0)\n",
    "        aux1.insert(0,0)\n",
    "        aux1.insert(1,'.')       \n",
    "        \n",
    "        for i in aux1:\n",
    "            aux2 += str(i)\n",
    "            #resultado = aux2\n",
    "            resultado = float(aux2) \n",
    "        '''\n",
    "        aaa=''\n",
    "        aaa = ''.join(aux1)\n",
    "        print(aaa)\n",
    "        '''\n",
    "    else:\n",
    "        resultado = None        \n",
    "\n",
    "    return resultado"
   ]
  },
  {
   "cell_type": "code",
   "execution_count": 12,
   "metadata": {},
   "outputs": [
    {
     "data": {
      "text/plain": [
       "0.010101010101010102"
      ]
     },
     "execution_count": 12,
     "metadata": {},
     "output_type": "execute_result"
    }
   ],
   "source": [
    "BinarioFraccionario(1/3)"
   ]
  },
  {
   "cell_type": "code",
   "execution_count": 13,
   "metadata": {},
   "outputs": [],
   "source": [
    "def DecimalBinario(numero):\n",
    "    \n",
    "    aux1 = int(numero)\n",
    "    aux2 = numero - aux1\n",
    "    \n",
    "    aux3 = NumeroBinario(aux1)\n",
    "    aux4 = BinarioFraccionario(aux2)\n",
    "\n",
    "    resultado = aux3 + aux4\n",
    "\n",
    "    return resultado"
   ]
  },
  {
   "cell_type": "code",
   "execution_count": 14,
   "metadata": {},
   "outputs": [
    {
     "data": {
      "text/plain": [
       "11101010.0101"
      ]
     },
     "execution_count": 14,
     "metadata": {},
     "output_type": "execute_result"
    }
   ],
   "source": [
    "DecimalBinario(234.3125)"
   ]
  }
 ],
 "metadata": {
  "kernelspec": {
   "display_name": "Python 3",
   "language": "python",
   "name": "python3"
  },
  "language_info": {
   "codemirror_mode": {
    "name": "ipython",
    "version": 3
   },
   "file_extension": ".py",
   "mimetype": "text/x-python",
   "name": "python",
   "nbconvert_exporter": "python",
   "pygments_lexer": "ipython3",
   "version": "3.11.1"
  },
  "orig_nbformat": 4,
  "vscode": {
   "interpreter": {
    "hash": "c2add6e69ce8512bc31365b658e10cbfaf78d0317c05b0a2cac7a34cd9db6954"
   }
  }
 },
 "nbformat": 4,
 "nbformat_minor": 2
}
